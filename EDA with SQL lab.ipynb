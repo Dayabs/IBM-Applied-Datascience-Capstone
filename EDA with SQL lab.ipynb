{
    "cells": [
        {
            "cell_type": "markdown",
            "metadata": {},
            "source": "<center>\n    <img src=\"https://gitlab.com/ibm/skills-network/courses/placeholder101/-/raw/master/labs/module%201/images/IDSNlogo.png\"  width=\"300\" alt=\"cognitiveclass.ai logo\"  />\n</center>\n\n<h1 align=center><font size = 5>Assignment: SQL Notebook for Peer Assignment</font></h1>\n\nEstimated time needed: **60** minutes.\n\n## Introduction\n\nUsing this Python notebook you will:\n\n1.  Understand the Spacex DataSet\n2.  Load the dataset  into the corresponding table in a Db2 database\n3.  Execute SQL queries to answer assignment questions\n"
        },
        {
            "cell_type": "markdown",
            "metadata": {},
            "source": "## Overview of the DataSet\n\nSpaceX has gained worldwide attention for a series of historic milestones.\n\nIt is the only private company ever to return a spacecraft from low-earth orbit, which it first accomplished in December 2010.\nSpaceX advertises Falcon 9 rocket launches on its website with a cost of 62 million dollars wheras other providers cost upward of 165 million dollars each, much of the savings is because Space X can reuse the first stage.\n\nTherefore if we can determine if the first stage will land, we can determine the cost of a launch.\n\nThis information can be used if an alternate company wants to bid against SpaceX for a rocket launch.\n\nThis dataset includes a record for each payload carried during a SpaceX mission into outer space.\n"
        },
        {
            "cell_type": "markdown",
            "metadata": {},
            "source": "### Download the datasets\n\nThis assignment requires you to load the spacex dataset.\n\nIn many cases the dataset to be analyzed is available as a .CSV (comma separated values) file, perhaps on the internet. Click on the link below to download and save the dataset (.CSV file):\n\n<a href=\"https://cf-courses-data.s3.us.cloud-object-storage.appdomain.cloud/IBM-DS0321EN-SkillsNetwork/labs/module_2/data/Spacex.csv?utm_medium=Exinfluencer&utm_source=Exinfluencer&utm_content=000026UJ&utm_term=10006555&utm_id=NA-SkillsNetwork-Channel-SkillsNetworkCoursesIBMDS0321ENSkillsNetwork26802033-2021-01-01\" target=\"_blank\">Spacex DataSet</a>\n"
        },
        {
            "cell_type": "markdown",
            "metadata": {},
            "source": "### Store the dataset in database table\n\n**it is highly recommended to manually load the table using the database console LOAD tool in DB2**.\n\n<img src = \"https://cf-courses-data.s3.us.cloud-object-storage.appdomain.cloud/IBM-DS0321EN-SkillsNetwork/labs/module_2/images/spacexload.png\">\n\nNow open the Db2 console, open the LOAD tool, Select / Drag the .CSV file for the  dataset, Next create a New Table, and then follow the steps on-screen instructions to load the data. Name the new table as follows:\n\n**SPACEXDATASET**\n\n**Follow these steps while using old DB2 UI which is having Open Console Screen**\n\n**Note:While loading Spacex dataset, ensure that detect datatypes is disabled. Later click on the pencil icon(edit option).**\n\n1.  Change the Date Format by manually typing DD-MM-YYYY and timestamp format as DD-MM-YYYY HH\\:MM:SS.\n\n    Here you should place the cursor at Date field and manually type as DD-MM-YYYY.\n\n2.  Change the PAYLOAD_MASS\\_\\_KG\\_  datatype  to INTEGER.\n\n<img src = \"https://cf-courses-data.s3.us.cloud-object-storage.appdomain.cloud/IBM-DS0321EN-SkillsNetwork/labs/module_2/images/spacexload2.png\">\n"
        },
        {
            "cell_type": "markdown",
            "metadata": {},
            "source": "**Changes to be considered when having DB2 instance with the new UI having Go to UI screen**\n\n*   Refer to this insruction in this <a href=\"https://cf-courses-data.s3.us.cloud-object-storage.appdomain.cloud/IBMDeveloperSkillsNetwork-DB0201EN-SkillsNetwork/labs/Labs_Coursera_V5/labs/Lab%20-%20Sign%20up%20for%20IBM%20Cloud%20-%20Create%20Db2%20service%20instance%20-%20Get%20started%20with%20the%20Db2%20console/instructional-labs.md.html?utm_medium=Exinfluencer&utm_source=Exinfluencer&utm_content=000026UJ&utm_term=10006555&utm_id=NA-SkillsNetwork-Channel-SkillsNetworkCoursesIBMDS0321ENSkillsNetwork26802033-2021-01-01\">link</a> for viewing  the new  Go to UI screen.\n\n*   Later click on **Data link(below SQL)**  in the Go to UI screen  and click on **Load Data** tab.\n\n*   Later browse for the downloaded spacex file.\n\n<img src=\"https://cf-courses-data.s3.us.cloud-object-storage.appdomain.cloud/IBM-DS0321EN-SkillsNetwork/labs/module_2/images/browsefile.png\" width=\"800\"/>\n\n*   Once done select the schema andload the file.\n\n <img src=\"https://cf-courses-data.s3.us.cloud-object-storage.appdomain.cloud/IBM-DS0321EN-SkillsNetwork/labs/module_2/images/spacexload3.png\" width=\"800\"/>\n"
        },
        {
            "cell_type": "markdown",
            "metadata": {},
            "source": "### Connect to the database\n\nLet us first load the SQL extension and establish a connection with the database\n"
        },
        {
            "cell_type": "markdown",
            "metadata": {},
            "source": "**DB2 magic in case of old UI service credentials.**\n\nIn the next cell enter your db2 connection string. Recall you created Service Credentials for your Db2 instance before. From the **uri** field of your Db2 service credentials copy everything after db2:// (except the double quote at the end) and paste it in the cell below after ibm_db_sa://\n\n<img src =\"https://cf-courses-data.s3.us.cloud-object-storage.appdomain.cloud/IBMDeveloperSkillsNetwork-DB0201EN-SkillsNetwork/labs/FinalModule_edX/images/URI.jpg\">\n\nin the following format\n\n**%sql ibm_db_sa://my-username:my-password\\@my-hostname:my-port/my-db-name**\n\n**DB2 magic in case of new UI service credentials.**\n\n<img src =\"https://cf-courses-data.s3.us.cloud-object-storage.appdomain.cloud/IBM-DS0321EN-SkillsNetwork/labs/module_2/images/servicecredentials.png\" width=600>  \n\n*   Use the following format.\n\n*   Add security=SSL at the end\n\n**%sql ibm_db_sa://my-username:my-password\\@my-hostname:my-port/my-db-name?security=SSL**\n"
        },
        {
            "cell_type": "code",
            "execution_count": 1,
            "metadata": {},
            "outputs": [
                {
                    "name": "stdout",
                    "output_type": "stream",
                    "text": "Collecting ibm_db==3.1.0\n  Using cached ibm_db-3.1.0-cp38-cp38-linux_x86_64.whl\nCollecting ibm_db_sa==0.3.7\n  Using cached ibm_db_sa-0.3.7-py3-none-any.whl\nCollecting sqlalchemy>=0.7.3\n  Using cached SQLAlchemy-1.4.29-cp38-cp38-manylinux_2_5_x86_64.manylinux1_x86_64.manylinux_2_17_x86_64.manylinux2014_x86_64.whl (1.6 MB)\nCollecting greenlet!=0.4.17\n  Using cached greenlet-1.1.2-cp38-cp38-manylinux_2_17_x86_64.manylinux2014_x86_64.whl (156 kB)\nInstalling collected packages: greenlet, sqlalchemy, ibm-db, ibm-db-sa\n  Attempting uninstall: greenlet\n    Found existing installation: greenlet 1.1.2\n    Uninstalling greenlet-1.1.2:\n      Successfully uninstalled greenlet-1.1.2\n  Attempting uninstall: sqlalchemy\n    Found existing installation: SQLAlchemy 1.3.9\n    Uninstalling SQLAlchemy-1.3.9:\n      Successfully uninstalled SQLAlchemy-1.3.9\n  Attempting uninstall: ibm-db\n    Found existing installation: ibm-db 3.1.0\n    Uninstalling ibm-db-3.1.0:\n      Successfully uninstalled ibm-db-3.1.0\n  Attempting uninstall: ibm-db-sa\n    Found existing installation: ibm-db-sa 0.3.7\n    Uninstalling ibm-db-sa-0.3.7:\n      Successfully uninstalled ibm-db-sa-0.3.7\nSuccessfully installed greenlet-1.1.2 ibm-db-3.1.0 ibm-db-sa-0.3.7 sqlalchemy-1.4.29\nCollecting sqlalchemy==1.3.9\n  Using cached SQLAlchemy-1.3.9-cp38-cp38-linux_x86_64.whl\nInstalling collected packages: sqlalchemy\n  Attempting uninstall: sqlalchemy\n    Found existing installation: SQLAlchemy 1.4.29\n    Uninstalling SQLAlchemy-1.4.29:\n      Successfully uninstalled SQLAlchemy-1.4.29\nSuccessfully installed sqlalchemy-1.3.9\nCollecting ipython-sql\n  Downloading ipython_sql-0.4.0-py3-none-any.whl (19 kB)\nRequirement already satisfied: ipython-genutils>=0.1.0 in /opt/conda/envs/Python-3.8-main/lib/python3.8/site-packages (from ipython-sql) (0.2.0)\nCollecting prettytable<1\n  Downloading prettytable-0.7.2.zip (28 kB)\nRequirement already satisfied: ipython>=1.0 in /opt/conda/envs/Python-3.8-main/lib/python3.8/site-packages (from ipython-sql) (7.27.0)\nRequirement already satisfied: sqlalchemy>=0.6.7 in /opt/conda/envs/Python-3.8-main/lib/python3.8/site-packages (from ipython-sql) (1.3.9)\nCollecting sqlparse\n  Downloading sqlparse-0.4.2-py3-none-any.whl (42 kB)\n\u001b[K     |\u2588\u2588\u2588\u2588\u2588\u2588\u2588\u2588\u2588\u2588\u2588\u2588\u2588\u2588\u2588\u2588\u2588\u2588\u2588\u2588\u2588\u2588\u2588\u2588\u2588\u2588\u2588\u2588\u2588\u2588\u2588\u2588| 42 kB 3.9 MB/s  eta 0:00:01\n\u001b[?25hRequirement already satisfied: six in /opt/conda/envs/Python-3.8-main/lib/python3.8/site-packages (from ipython-sql) (1.15.0)\nRequirement already satisfied: pickleshare in /opt/conda/envs/Python-3.8-main/lib/python3.8/site-packages (from ipython>=1.0->ipython-sql) (0.7.5)\nRequirement already satisfied: matplotlib-inline in /opt/conda/envs/Python-3.8-main/lib/python3.8/site-packages (from ipython>=1.0->ipython-sql) (0.1.2)\nRequirement already satisfied: pexpect>4.3 in /opt/conda/envs/Python-3.8-main/lib/python3.8/site-packages (from ipython>=1.0->ipython-sql) (4.8.0)\nRequirement already satisfied: backcall in /opt/conda/envs/Python-3.8-main/lib/python3.8/site-packages (from ipython>=1.0->ipython-sql) (0.2.0)\nRequirement already satisfied: setuptools>=18.5 in /opt/conda/envs/Python-3.8-main/lib/python3.8/site-packages (from ipython>=1.0->ipython-sql) (52.0.0.post20211006)\nRequirement already satisfied: jedi>=0.16 in /opt/conda/envs/Python-3.8-main/lib/python3.8/site-packages (from ipython>=1.0->ipython-sql) (0.17.2)\nRequirement already satisfied: prompt-toolkit!=3.0.0,!=3.0.1,<3.1.0,>=2.0.0 in /opt/conda/envs/Python-3.8-main/lib/python3.8/site-packages (from ipython>=1.0->ipython-sql) (3.0.20)\nRequirement already satisfied: pygments in /opt/conda/envs/Python-3.8-main/lib/python3.8/site-packages (from ipython>=1.0->ipython-sql) (2.9.0)\nRequirement already satisfied: traitlets>=4.2 in /opt/conda/envs/Python-3.8-main/lib/python3.8/site-packages (from ipython>=1.0->ipython-sql) (5.0.5)\nRequirement already satisfied: decorator in /opt/conda/envs/Python-3.8-main/lib/python3.8/site-packages (from ipython>=1.0->ipython-sql) (5.0.9)\nRequirement already satisfied: parso<0.8.0,>=0.7.0 in /opt/conda/envs/Python-3.8-main/lib/python3.8/site-packages (from jedi>=0.16->ipython>=1.0->ipython-sql) (0.7.0)\nRequirement already satisfied: ptyprocess>=0.5 in /opt/conda/envs/Python-3.8-main/lib/python3.8/site-packages (from pexpect>4.3->ipython>=1.0->ipython-sql) (0.7.0)\nRequirement already satisfied: wcwidth in /opt/conda/envs/Python-3.8-main/lib/python3.8/site-packages (from prompt-toolkit!=3.0.0,!=3.0.1,<3.1.0,>=2.0.0->ipython>=1.0->ipython-sql) (0.2.5)\nBuilding wheels for collected packages: prettytable\n  Building wheel for prettytable (setup.py) ... \u001b[?25ldone\n\u001b[?25h  Created wheel for prettytable: filename=prettytable-0.7.2-py3-none-any.whl size=13700 sha256=3c006dfe1a125deda8e7b110321c7c39f2e70e8f3202053fdd8c64b7cafd947f\n  Stored in directory: /tmp/wsuser/.cache/pip/wheels/48/6d/77/9517cb933af254f51a446f1a5ec9c2be3e45f17384940bce68\nSuccessfully built prettytable\nInstalling collected packages: sqlparse, prettytable, ipython-sql\nSuccessfully installed ipython-sql-0.4.0 prettytable-0.7.2 sqlparse-0.4.2\n"
                }
            ],
            "source": "!pip install --force-reinstall ibm_db==3.1.0 ibm_db_sa==0.3.7\n!pip install sqlalchemy==1.3.9\n!pip install ipython-sql \n\nimport ibm_db\nimport ibm_db_sa \nimport sqlalchemy \n%load_ext sql"
        },
        {
            "cell_type": "code",
            "execution_count": 2,
            "metadata": {},
            "outputs": [],
            "source": "%reload_ext sql"
        },
        {
            "cell_type": "code",
            "execution_count": 3,
            "metadata": {},
            "outputs": [],
            "source": "%sql ibm_db_sa://ltv31339:BI6xYDoRyZMz4HEZ@b0aebb68-94fa-46ec-a1fc-1c999edb6187.c3n41cmd0nqnrk39u98g.databases.appdomain.cloud:31249/BLUDB?security=SSL"
        },
        {
            "cell_type": "code",
            "execution_count": 6,
            "metadata": {},
            "outputs": [
                {
                    "name": "stdout",
                    "output_type": "stream",
                    "text": " * ibm_db_sa://ltv31339:***@b0aebb68-94fa-46ec-a1fc-1c999edb6187.c3n41cmd0nqnrk39u98g.databases.appdomain.cloud:31249/BLUDB\nDone.\n"
                },
                {
                    "data": {
                        "text/html": "<table>\n    <tr>\n        <th>tabschema</th>\n        <th>tabname</th>\n        <th>owner</th>\n        <th>ownertype</th>\n        <th>TYPE</th>\n        <th>status</th>\n        <th>base_tabschema</th>\n        <th>base_tabname</th>\n        <th>rowtypeschema</th>\n        <th>rowtypename</th>\n        <th>create_time</th>\n        <th>alter_time</th>\n        <th>invalidate_time</th>\n        <th>stats_time</th>\n        <th>colcount</th>\n        <th>tableid</th>\n        <th>tbspaceid</th>\n        <th>card</th>\n        <th>npages</th>\n        <th>mpages</th>\n        <th>fpages</th>\n        <th>npartitions</th>\n        <th>nfiles</th>\n        <th>tablesize</th>\n        <th>overflow</th>\n        <th>tbspace</th>\n        <th>index_tbspace</th>\n        <th>long_tbspace</th>\n        <th>parents</th>\n        <th>children</th>\n        <th>selfrefs</th>\n        <th>keycolumns</th>\n        <th>keyindexid</th>\n        <th>keyunique</th>\n        <th>checkcount</th>\n        <th>datacapture</th>\n        <th>const_checked</th>\n        <th>pmap_id</th>\n        <th>partition_mode</th>\n        <th>log_attribute</th>\n        <th>pctfree</th>\n        <th>append_mode</th>\n        <th>REFRESH</th>\n        <th>refresh_time</th>\n        <th>LOCKSIZE</th>\n        <th>VOLATILE</th>\n        <th>row_format</th>\n        <th>property</th>\n        <th>statistics_profile</th>\n        <th>compression</th>\n        <th>rowcompmode</th>\n        <th>access_mode</th>\n        <th>clustered</th>\n        <th>active_blocks</th>\n        <th>droprule</th>\n        <th>maxfreespacesearch</th>\n        <th>avgcompressedrowsize</th>\n        <th>avgrowcompressionratio</th>\n        <th>avgrowsize</th>\n        <th>pctrowscompressed</th>\n        <th>logindexbuild</th>\n        <th>codepage</th>\n        <th>collationschema</th>\n        <th>collationname</th>\n        <th>collationschema_orderby</th>\n        <th>collationname_orderby</th>\n        <th>encoding_scheme</th>\n        <th>pctpagessaved</th>\n        <th>last_regen_time</th>\n        <th>secpolicyid</th>\n        <th>protectiongranularity</th>\n        <th>auditpolicyid</th>\n        <th>auditpolicyname</th>\n        <th>auditexceptionenabled</th>\n        <th>definer</th>\n        <th>oncommit</th>\n        <th>logged</th>\n        <th>onrollback</th>\n        <th>lastused</th>\n        <th>control</th>\n        <th>temporaltype</th>\n        <th>tableorg</th>\n        <th>extended_row_size</th>\n        <th>pctextendedrows</th>\n        <th>remarks</th>\n    </tr>\n    <tr>\n        <td>LTV31339</td>\n        <td>SPACEX</td>\n        <td>LTV31339</td>\n        <td>U</td>\n        <td>T</td>\n        <td>N</td>\n        <td>None</td>\n        <td>None</td>\n        <td>None</td>\n        <td>None</td>\n        <td>2022-01-03 17:58:18.541312</td>\n        <td>2022-01-03 17:58:18.541312</td>\n        <td>2022-01-03 17:58:18.541312</td>\n        <td>None</td>\n        <td>10</td>\n        <td>18</td>\n        <td>557</td>\n        <td>-1</td>\n        <td>-1</td>\n        <td>-1</td>\n        <td>-1</td>\n        <td>-1</td>\n        <td>-1</td>\n        <td>-1</td>\n        <td>-1</td>\n        <td>LTV31339SPACE1</td>\n        <td>None</td>\n        <td>None</td>\n        <td>0</td>\n        <td>0</td>\n        <td>0</td>\n        <td>0</td>\n        <td>0</td>\n        <td>0</td>\n        <td>0</td>\n        <td>N</td>\n        <td>YYYYYYYYYYYYYYYYYYYYYYYYYYYYYYYY</td>\n        <td>1</td>\n        <td> </td>\n        <td>0</td>\n        <td>-1</td>\n        <td>N</td>\n        <td> </td>\n        <td>None</td>\n        <td>R</td>\n        <td> </td>\n        <td>N</td>\n        <td>&nbsp;&nbsp;&nbsp;&nbsp;&nbsp;&nbsp;&nbsp;&nbsp;&nbsp;&nbsp;&nbsp;&nbsp;&nbsp;&nbsp;&nbsp;&nbsp;&nbsp;&nbsp;&nbsp;&nbsp;&nbsp;&nbsp;&nbsp;&nbsp;&nbsp;&nbsp;&nbsp;&nbsp;&nbsp;&nbsp;&nbsp;&nbsp;</td>\n        <td>None</td>\n        <td>N</td>\n        <td> </td>\n        <td>F</td>\n        <td>None</td>\n        <td>-1</td>\n        <td>N</td>\n        <td>999</td>\n        <td>-1</td>\n        <td>-1.0</td>\n        <td>-1</td>\n        <td>-1.0</td>\n        <td>None</td>\n        <td>1208</td>\n        <td>SYSIBM</td>\n        <td>IDENTITY</td>\n        <td>SYSIBM</td>\n        <td>IDENTITY</td>\n        <td> </td>\n        <td>-1</td>\n        <td>2022-01-03 17:58:18.541312</td>\n        <td>0</td>\n        <td> </td>\n        <td>None</td>\n        <td>None</td>\n        <td>N</td>\n        <td>LTV31339</td>\n        <td> </td>\n        <td> </td>\n        <td> </td>\n        <td>2022-01-03</td>\n        <td> </td>\n        <td>N</td>\n        <td>R</td>\n        <td>N</td>\n        <td>-1.0</td>\n        <td>None</td>\n    </tr>\n</table>",
                        "text/plain": "[('LTV31339', 'SPACEX', 'LTV31339', 'U', 'T', 'N', None, None, None, None, datetime.datetime(2022, 1, 3, 17, 58, 18, 541312), datetime.datetime(2022, 1, 3, 17, 58, 18, 541312), datetime.datetime(2022, 1, 3, 17, 58, 18, 541312), None, 10, 18, 557, -1, -1, -1, -1, -1, -1, -1, -1, 'LTV31339SPACE1', None, None, 0, 0, 0, 0, 0, 0, 0, 'N', 'YYYYYYYYYYYYYYYYYYYYYYYYYYYYYYYY', 1, ' ', '0', -1, 'N', ' ', None, 'R', ' ', 'N', '                                ', None, 'N', ' ', 'F', None, -1, 'N', 999, -1, -1.0, -1, -1.0, None, 1208, 'SYSIBM', 'IDENTITY', 'SYSIBM', 'IDENTITY', ' ', -1, datetime.datetime(2022, 1, 3, 17, 58, 18, 541312), 0, ' ', None, None, 'N', 'LTV31339', ' ', ' ', ' ', datetime.date(2022, 1, 3), ' ', 'N', 'R', 'N', -1.0, None)]"
                    },
                    "execution_count": 6,
                    "metadata": {},
                    "output_type": "execute_result"
                }
            ],
            "source": "%sql select * from syscat.tables where TABNAME = 'SPACEX'"
        },
        {
            "cell_type": "code",
            "execution_count": 7,
            "metadata": {},
            "outputs": [
                {
                    "name": "stdout",
                    "output_type": "stream",
                    "text": " * ibm_db_sa://ltv31339:***@b0aebb68-94fa-46ec-a1fc-1c999edb6187.c3n41cmd0nqnrk39u98g.databases.appdomain.cloud:31249/BLUDB\nDone.\n"
                },
                {
                    "data": {
                        "text/html": "<table>\n    <tr>\n        <th>1</th>\n    </tr>\n    <tr>\n        <td>10</td>\n    </tr>\n</table>",
                        "text/plain": "[(10,)]"
                    },
                    "execution_count": 7,
                    "metadata": {},
                    "output_type": "execute_result"
                }
            ],
            "source": "%sql select count(*) from syscat.columns where TABNAME = 'SPACEXTBL'"
        },
        {
            "cell_type": "code",
            "execution_count": 8,
            "metadata": {},
            "outputs": [
                {
                    "name": "stdout",
                    "output_type": "stream",
                    "text": " * ibm_db_sa://ltv31339:***@b0aebb68-94fa-46ec-a1fc-1c999edb6187.c3n41cmd0nqnrk39u98g.databases.appdomain.cloud:31249/BLUDB\nDone.\n"
                },
                {
                    "data": {
                        "text/html": "<table>\n    <tr>\n        <th>colname</th>\n        <th>typename</th>\n        <th>length</th>\n    </tr>\n    <tr>\n        <td>DATE</td>\n        <td>DATE</td>\n        <td>4</td>\n    </tr>\n    <tr>\n        <td>TIME__UTC_</td>\n        <td>TIME</td>\n        <td>3</td>\n    </tr>\n    <tr>\n        <td>BOOSTER_VERSION</td>\n        <td>VARCHAR</td>\n        <td>14</td>\n    </tr>\n    <tr>\n        <td>LAUNCH_SITE</td>\n        <td>VARCHAR</td>\n        <td>12</td>\n    </tr>\n    <tr>\n        <td>PAYLOAD</td>\n        <td>VARCHAR</td>\n        <td>61</td>\n    </tr>\n    <tr>\n        <td>PAYLOAD_MASS__KG_</td>\n        <td>SMALLINT</td>\n        <td>2</td>\n    </tr>\n    <tr>\n        <td>ORBIT</td>\n        <td>VARCHAR</td>\n        <td>11</td>\n    </tr>\n    <tr>\n        <td>CUSTOMER</td>\n        <td>VARCHAR</td>\n        <td>57</td>\n    </tr>\n    <tr>\n        <td>MISSION_OUTCOME</td>\n        <td>VARCHAR</td>\n        <td>32</td>\n    </tr>\n    <tr>\n        <td>LANDING__OUTCOME</td>\n        <td>VARCHAR</td>\n        <td>22</td>\n    </tr>\n</table>",
                        "text/plain": "[('DATE', 'DATE', 4),\n ('TIME__UTC_', 'TIME', 3),\n ('BOOSTER_VERSION', 'VARCHAR', 14),\n ('LAUNCH_SITE', 'VARCHAR', 12),\n ('PAYLOAD', 'VARCHAR', 61),\n ('PAYLOAD_MASS__KG_', 'SMALLINT', 2),\n ('ORBIT', 'VARCHAR', 11),\n ('CUSTOMER', 'VARCHAR', 57),\n ('MISSION_OUTCOME', 'VARCHAR', 32),\n ('LANDING__OUTCOME', 'VARCHAR', 22)]"
                    },
                    "execution_count": 8,
                    "metadata": {},
                    "output_type": "execute_result"
                }
            ],
            "source": "%sql select colname, typename, length from syscat.columns where tabname = 'SPACEX'"
        },
        {
            "cell_type": "markdown",
            "metadata": {},
            "source": "## Tasks\n\nNow write and execute SQL queries to solve the assignment tasks.\n\n### Task 1\n\n##### Display the names of the unique launch sites  in the space mission\n"
        },
        {
            "cell_type": "code",
            "execution_count": 9,
            "metadata": {},
            "outputs": [
                {
                    "name": "stdout",
                    "output_type": "stream",
                    "text": " * ibm_db_sa://ltv31339:***@b0aebb68-94fa-46ec-a1fc-1c999edb6187.c3n41cmd0nqnrk39u98g.databases.appdomain.cloud:31249/BLUDB\nDone.\n"
                },
                {
                    "data": {
                        "text/html": "<table>\n    <tr>\n        <th>launch_site</th>\n    </tr>\n    <tr>\n        <td>CCAFS LC-40</td>\n    </tr>\n    <tr>\n        <td>CCAFS SLC-40</td>\n    </tr>\n    <tr>\n        <td>KSC LC-39A</td>\n    </tr>\n    <tr>\n        <td>VAFB SLC-4E</td>\n    </tr>\n</table>",
                        "text/plain": "[('CCAFS LC-40',), ('CCAFS SLC-40',), ('KSC LC-39A',), ('VAFB SLC-4E',)]"
                    },
                    "execution_count": 9,
                    "metadata": {},
                    "output_type": "execute_result"
                }
            ],
            "source": "%sql Select DISTINCT LAUNCH_SITE from SPACEX"
        },
        {
            "cell_type": "markdown",
            "metadata": {},
            "source": "### Task 2\n\n##### Display 5 records where launch sites begin with the string 'CCA'\n"
        },
        {
            "cell_type": "code",
            "execution_count": 10,
            "metadata": {},
            "outputs": [
                {
                    "name": "stdout",
                    "output_type": "stream",
                    "text": " * ibm_db_sa://ltv31339:***@b0aebb68-94fa-46ec-a1fc-1c999edb6187.c3n41cmd0nqnrk39u98g.databases.appdomain.cloud:31249/BLUDB\nDone.\n"
                },
                {
                    "data": {
                        "text/html": "<table>\n    <tr>\n        <th>launch_site</th>\n    </tr>\n    <tr>\n        <td>CCAFS LC-40</td>\n    </tr>\n    <tr>\n        <td>CCAFS LC-40</td>\n    </tr>\n    <tr>\n        <td>CCAFS LC-40</td>\n    </tr>\n    <tr>\n        <td>CCAFS LC-40</td>\n    </tr>\n    <tr>\n        <td>CCAFS LC-40</td>\n    </tr>\n</table>",
                        "text/plain": "[('CCAFS LC-40',),\n ('CCAFS LC-40',),\n ('CCAFS LC-40',),\n ('CCAFS LC-40',),\n ('CCAFS LC-40',)]"
                    },
                    "execution_count": 10,
                    "metadata": {},
                    "output_type": "execute_result"
                }
            ],
            "source": "%sql select LAUNCH_SITE from SPACEX where LAUNCH_SITE LIKE '%%CCA%' LIMIT 5"
        },
        {
            "cell_type": "markdown",
            "metadata": {},
            "source": "### Task 3\n\n##### Display the total payload mass carried by boosters launched by NASA (CRS)\n"
        },
        {
            "cell_type": "code",
            "execution_count": 11,
            "metadata": {},
            "outputs": [
                {
                    "name": "stdout",
                    "output_type": "stream",
                    "text": " * ibm_db_sa://ltv31339:***@b0aebb68-94fa-46ec-a1fc-1c999edb6187.c3n41cmd0nqnrk39u98g.databases.appdomain.cloud:31249/BLUDB\nDone.\n"
                },
                {
                    "data": {
                        "text/html": "<table>\n    <tr>\n        <th>total_payload_mass</th>\n    </tr>\n    <tr>\n        <td>45596</td>\n    </tr>\n</table>",
                        "text/plain": "[(45596,)]"
                    },
                    "execution_count": 11,
                    "metadata": {},
                    "output_type": "execute_result"
                }
            ],
            "source": "%sql select sum(PAYLOAD_MASS__KG_) as TOTAL_PAYLOAD_MASS from SPACEX where CUSTOMER = 'NASA (CRS)'"
        },
        {
            "cell_type": "markdown",
            "metadata": {},
            "source": "### Task 4\n\n##### Display average payload mass carried by booster version F9 v1.1\n"
        },
        {
            "cell_type": "code",
            "execution_count": 12,
            "metadata": {},
            "outputs": [
                {
                    "name": "stdout",
                    "output_type": "stream",
                    "text": " * ibm_db_sa://ltv31339:***@b0aebb68-94fa-46ec-a1fc-1c999edb6187.c3n41cmd0nqnrk39u98g.databases.appdomain.cloud:31249/BLUDB\nDone.\n"
                },
                {
                    "data": {
                        "text/html": "<table>\n    <tr>\n        <th>average_payload_mass</th>\n    </tr>\n    <tr>\n        <td>2928</td>\n    </tr>\n</table>",
                        "text/plain": "[(2928,)]"
                    },
                    "execution_count": 12,
                    "metadata": {},
                    "output_type": "execute_result"
                }
            ],
            "source": "%sql Select AVG(PAYLOAD_MASS__KG_) as AVERAGE_PAYLOAD_MASS from SPACEX where BOOSTER_VERSION = 'F9 v1.1'"
        },
        {
            "cell_type": "markdown",
            "metadata": {},
            "source": "### Task 5\n\n##### List the date when the first successful landing outcome in ground pad was acheived.\n\n*Hint:Use min function*\n"
        },
        {
            "cell_type": "code",
            "execution_count": 13,
            "metadata": {},
            "outputs": [
                {
                    "name": "stdout",
                    "output_type": "stream",
                    "text": " * ibm_db_sa://ltv31339:***@b0aebb68-94fa-46ec-a1fc-1c999edb6187.c3n41cmd0nqnrk39u98g.databases.appdomain.cloud:31249/BLUDB\nDone.\n"
                },
                {
                    "data": {
                        "text/html": "<table>\n    <tr>\n        <th>1</th>\n    </tr>\n    <tr>\n        <td>2010-06-04</td>\n    </tr>\n</table>",
                        "text/plain": "[(datetime.date(2010, 6, 4),)]"
                    },
                    "execution_count": 13,
                    "metadata": {},
                    "output_type": "execute_result"
                }
            ],
            "source": "%sql select min(DATE) from SPACEX where MISSION_OUTCOME = 'Success'"
        },
        {
            "cell_type": "markdown",
            "metadata": {},
            "source": "### Task 6\n\n##### List the names of the boosters which have success in drone ship and have payload mass greater than 4000 but less than 6000\n"
        },
        {
            "cell_type": "code",
            "execution_count": 14,
            "metadata": {},
            "outputs": [
                {
                    "name": "stdout",
                    "output_type": "stream",
                    "text": " * ibm_db_sa://ltv31339:***@b0aebb68-94fa-46ec-a1fc-1c999edb6187.c3n41cmd0nqnrk39u98g.databases.appdomain.cloud:31249/BLUDB\nDone.\n"
                },
                {
                    "data": {
                        "text/html": "<table>\n    <tr>\n        <th>booster_version</th>\n    </tr>\n    <tr>\n        <td>F9 FT B1022</td>\n    </tr>\n    <tr>\n        <td>F9 FT B1026</td>\n    </tr>\n    <tr>\n        <td>F9 FT  B1021.2</td>\n    </tr>\n    <tr>\n        <td>F9 FT  B1031.2</td>\n    </tr>\n</table>",
                        "text/plain": "[('F9 FT B1022',), ('F9 FT B1026',), ('F9 FT  B1021.2',), ('F9 FT  B1031.2',)]"
                    },
                    "execution_count": 14,
                    "metadata": {},
                    "output_type": "execute_result"
                }
            ],
            "source": "%sql SELECT BOOSTER_VERSION from SPACEX where LANDING__OUTCOME = 'Success (drone ship)' AND PAYLOAD_MASS__KG_ between 4000 AND 6000"
        },
        {
            "cell_type": "markdown",
            "metadata": {},
            "source": "### Task 7\n\n##### List the total number of successful and failure mission outcomes\n"
        },
        {
            "cell_type": "code",
            "execution_count": 16,
            "metadata": {},
            "outputs": [
                {
                    "name": "stdout",
                    "output_type": "stream",
                    "text": " * ibm_db_sa://ltv31339:***@b0aebb68-94fa-46ec-a1fc-1c999edb6187.c3n41cmd0nqnrk39u98g.databases.appdomain.cloud:31249/BLUDB\nDone.\n"
                },
                {
                    "data": {
                        "text/html": "<table>\n    <tr>\n        <th>missionoutcome</th>\n    </tr>\n    <tr>\n        <td>1</td>\n    </tr>\n    <tr>\n        <td>99</td>\n    </tr>\n    <tr>\n        <td>1</td>\n    </tr>\n</table>",
                        "text/plain": "[(1,), (99,), (1,)]"
                    },
                    "execution_count": 16,
                    "metadata": {},
                    "output_type": "execute_result"
                }
            ],
            "source": "%sql SELECT count(MISSION_OUTCOME) as MissionOutcome from SPACEX group by MISSION_OUTCOME;"
        },
        {
            "cell_type": "markdown",
            "metadata": {},
            "source": "### Task 8\n\n##### List the   names of the booster_versions which have carried the maximum payload mass. Use a subquery\n"
        },
        {
            "cell_type": "code",
            "execution_count": 17,
            "metadata": {},
            "outputs": [
                {
                    "name": "stdout",
                    "output_type": "stream",
                    "text": " * ibm_db_sa://ltv31339:***@b0aebb68-94fa-46ec-a1fc-1c999edb6187.c3n41cmd0nqnrk39u98g.databases.appdomain.cloud:31249/BLUDB\nDone.\n"
                },
                {
                    "data": {
                        "text/html": "<table>\n    <tr>\n        <th>booster_version</th>\n    </tr>\n    <tr>\n        <td>F9 B5 B1048.4</td>\n    </tr>\n    <tr>\n        <td>F9 B5 B1049.4</td>\n    </tr>\n    <tr>\n        <td>F9 B5 B1051.3</td>\n    </tr>\n    <tr>\n        <td>F9 B5 B1056.4</td>\n    </tr>\n    <tr>\n        <td>F9 B5 B1048.5</td>\n    </tr>\n    <tr>\n        <td>F9 B5 B1051.4</td>\n    </tr>\n    <tr>\n        <td>F9 B5 B1049.5</td>\n    </tr>\n    <tr>\n        <td>F9 B5 B1060.2</td>\n    </tr>\n    <tr>\n        <td>F9 B5 B1058.3</td>\n    </tr>\n    <tr>\n        <td>F9 B5 B1051.6</td>\n    </tr>\n    <tr>\n        <td>F9 B5 B1060.3</td>\n    </tr>\n    <tr>\n        <td>F9 B5 B1049.7</td>\n    </tr>\n</table>",
                        "text/plain": "[('F9 B5 B1048.4',),\n ('F9 B5 B1049.4',),\n ('F9 B5 B1051.3',),\n ('F9 B5 B1056.4',),\n ('F9 B5 B1048.5',),\n ('F9 B5 B1051.4',),\n ('F9 B5 B1049.5',),\n ('F9 B5 B1060.2',),\n ('F9 B5 B1058.3',),\n ('F9 B5 B1051.6',),\n ('F9 B5 B1060.3',),\n ('F9 B5 B1049.7',)]"
                    },
                    "execution_count": 17,
                    "metadata": {},
                    "output_type": "execute_result"
                }
            ],
            "source": "%sql select BOOSTER_VERSION from SPACEX where PAYLOAD_MASS__KG_ = (select max(PAYLOAD_MASS__KG_) from SPACEX);"
        },
        {
            "cell_type": "markdown",
            "metadata": {},
            "source": "### Task 9\n\n##### List the failed landing_outcomes in drone ship, their booster versions, and launch site names for in year 2015\n"
        },
        {
            "cell_type": "code",
            "execution_count": 18,
            "metadata": {},
            "outputs": [
                {
                    "name": "stdout",
                    "output_type": "stream",
                    "text": " * ibm_db_sa://ltv31339:***@b0aebb68-94fa-46ec-a1fc-1c999edb6187.c3n41cmd0nqnrk39u98g.databases.appdomain.cloud:31249/BLUDB\nDone.\n"
                },
                {
                    "data": {
                        "text/html": "<table>\n    <tr>\n        <th>1</th>\n        <th>landing__outcome</th>\n        <th>mission_outcome</th>\n        <th>booster_version</th>\n        <th>launch_site</th>\n    </tr>\n    <tr>\n        <td>1</td>\n        <td>Failure (drone ship)</td>\n        <td>Success</td>\n        <td>F9 v1.1 B1012</td>\n        <td>CCAFS LC-40</td>\n    </tr>\n    <tr>\n        <td>4</td>\n        <td>Failure (drone ship)</td>\n        <td>Success</td>\n        <td>F9 v1.1 B1015</td>\n        <td>CCAFS LC-40</td>\n    </tr>\n</table>",
                        "text/plain": "[(1, 'Failure (drone ship)', 'Success', 'F9 v1.1 B1012', 'CCAFS LC-40'),\n (4, 'Failure (drone ship)', 'Success', 'F9 v1.1 B1015', 'CCAFS LC-40')]"
                    },
                    "execution_count": 18,
                    "metadata": {},
                    "output_type": "execute_result"
                }
            ],
            "source": "%sql select Month(Date), LANDING__OUTCOME, MISSION_OUTCOME, BOOSTER_VERSION, LAUNCH_SITE from SPACEX where LANDING__OUTCOME = 'Failure (drone ship)' AND EXTRACT(YEAR FROM DATE)='2015';"
        },
        {
            "cell_type": "markdown",
            "metadata": {},
            "source": "### Task 10\n\n##### Rank the count of landing outcomes (such as Failure (drone ship) or Success (ground pad)) between the date 2010-06-04 and 2017-03-20, in descending order\n"
        },
        {
            "cell_type": "code",
            "execution_count": 19,
            "metadata": {},
            "outputs": [
                {
                    "name": "stdout",
                    "output_type": "stream",
                    "text": " * ibm_db_sa://ltv31339:***@b0aebb68-94fa-46ec-a1fc-1c999edb6187.c3n41cmd0nqnrk39u98g.databases.appdomain.cloud:31249/BLUDB\nDone.\n"
                },
                {
                    "data": {
                        "text/html": "<table>\n    <tr>\n        <th>landing__outcome</th>\n    </tr>\n    <tr>\n        <td>No attempt</td>\n    </tr>\n    <tr>\n        <td>Success (ground pad)</td>\n    </tr>\n    <tr>\n        <td>Success (drone ship)</td>\n    </tr>\n    <tr>\n        <td>Success (drone ship)</td>\n    </tr>\n    <tr>\n        <td>Success (ground pad)</td>\n    </tr>\n    <tr>\n        <td>Failure (drone ship)</td>\n    </tr>\n    <tr>\n        <td>Success (drone ship)</td>\n    </tr>\n    <tr>\n        <td>Success (drone ship)</td>\n    </tr>\n    <tr>\n        <td>Success (drone ship)</td>\n    </tr>\n    <tr>\n        <td>Failure (drone ship)</td>\n    </tr>\n    <tr>\n        <td>Failure (drone ship)</td>\n    </tr>\n    <tr>\n        <td>Success (ground pad)</td>\n    </tr>\n    <tr>\n        <td>Precluded (drone ship)</td>\n    </tr>\n    <tr>\n        <td>No attempt</td>\n    </tr>\n    <tr>\n        <td>Failure (drone ship)</td>\n    </tr>\n    <tr>\n        <td>No attempt</td>\n    </tr>\n    <tr>\n        <td>Controlled (ocean)</td>\n    </tr>\n    <tr>\n        <td>Failure (drone ship)</td>\n    </tr>\n    <tr>\n        <td>Uncontrolled (ocean)</td>\n    </tr>\n    <tr>\n        <td>No attempt</td>\n    </tr>\n    <tr>\n        <td>No attempt</td>\n    </tr>\n    <tr>\n        <td>Controlled (ocean)</td>\n    </tr>\n    <tr>\n        <td>Controlled (ocean)</td>\n    </tr>\n    <tr>\n        <td>No attempt</td>\n    </tr>\n    <tr>\n        <td>No attempt</td>\n    </tr>\n    <tr>\n        <td>Uncontrolled (ocean)</td>\n    </tr>\n    <tr>\n        <td>No attempt</td>\n    </tr>\n    <tr>\n        <td>No attempt</td>\n    </tr>\n    <tr>\n        <td>No attempt</td>\n    </tr>\n    <tr>\n        <td>Failure (parachute)</td>\n    </tr>\n    <tr>\n        <td>Failure (parachute)</td>\n    </tr>\n</table>",
                        "text/plain": "[('No attempt',),\n ('Success (ground pad)',),\n ('Success (drone ship)',),\n ('Success (drone ship)',),\n ('Success (ground pad)',),\n ('Failure (drone ship)',),\n ('Success (drone ship)',),\n ('Success (drone ship)',),\n ('Success (drone ship)',),\n ('Failure (drone ship)',),\n ('Failure (drone ship)',),\n ('Success (ground pad)',),\n ('Precluded (drone ship)',),\n ('No attempt',),\n ('Failure (drone ship)',),\n ('No attempt',),\n ('Controlled (ocean)',),\n ('Failure (drone ship)',),\n ('Uncontrolled (ocean)',),\n ('No attempt',),\n ('No attempt',),\n ('Controlled (ocean)',),\n ('Controlled (ocean)',),\n ('No attempt',),\n ('No attempt',),\n ('Uncontrolled (ocean)',),\n ('No attempt',),\n ('No attempt',),\n ('No attempt',),\n ('Failure (parachute)',),\n ('Failure (parachute)',)]"
                    },
                    "execution_count": 19,
                    "metadata": {},
                    "output_type": "execute_result"
                }
            ],
            "source": "%sql SELECT LANDING__OUTCOME FROM SPACEX WHERE DATE BETWEEN '2010-06-04' AND '2017-03-20' ORDER BY DATE DESC"
        },
        {
            "cell_type": "markdown",
            "metadata": {},
            "source": "### Reference Links\n\n*   <a href =\"https://cf-courses-data.s3.us.cloud-object-storage.appdomain.cloud/IBMDeveloperSkillsNetwork-DB0201EN-SkillsNetwork/labs/Labs_Coursera_V5/labs/Lab%20-%20String%20Patterns%20-%20Sorting%20-%20Grouping/instructional-labs.md.html?utm_medium=Exinfluencer&utm_source=Exinfluencer&utm_content=000026UJ&utm_term=10006555&utm_id=NA-SkillsNetwork-Channel-SkillsNetworkCoursesIBMDS0321ENSkillsNetwork26802033-2021-01-01&origin=www.coursera.org\">Hands-on Lab : String Patterns, Sorting and Grouping</a>\n\n*   <a  href=\"https://cf-courses-data.s3.us.cloud-object-storage.appdomain.cloud/IBMDeveloperSkillsNetwork-DB0201EN-SkillsNetwork/labs/Labs_Coursera_V5/labs/Lab%20-%20Built-in%20functions%20/Hands-on_Lab__Built-in_Functions.md.html?utm_medium=Exinfluencer&utm_source=Exinfluencer&utm_content=000026UJ&utm_term=10006555&utm_id=NA-SkillsNetwork-Channel-SkillsNetworkCoursesIBMDS0321ENSkillsNetwork26802033-2021-01-01&origin=www.coursera.org\">Hands-on Lab: Built-in functions</a>\n\n*   <a  href=\"https://cf-courses-data.s3.us.cloud-object-storage.appdomain.cloud/IBMDeveloperSkillsNetwork-DB0201EN-SkillsNetwork/labs/Labs_Coursera_V5/labs/Lab%20-%20Sub-queries%20and%20Nested%20SELECTs%20/instructional-labs.md.html?utm_medium=Exinfluencer&utm_source=Exinfluencer&utm_content=000026UJ&utm_term=10006555&utm_id=NA-SkillsNetwork-Channel-SkillsNetworkCoursesIBMDS0321ENSkillsNetwork26802033-2021-01-01&origin=www.coursera.org\">Hands-on Lab : Sub-queries and Nested SELECT Statements</a>\n\n*   <a href=\"https://cf-courses-data.s3.us.cloud-object-storage.appdomain.cloud/IBMDeveloperSkillsNetwork-DB0201EN-SkillsNetwork/labs/Module%205/DB0201EN-Week3-1-3-SQLmagic.ipynb?utm_medium=Exinfluencer&utm_source=Exinfluencer&utm_content=000026UJ&utm_term=10006555&utm_id=NA-SkillsNetwork-Channel-SkillsNetworkCoursesIBMDS0321ENSkillsNetwork26802033-2021-01-01\">Hands-on Tutorial: Accessing Databases with SQL magic</a>\n\n*   <a href= \"https://cf-courses-data.s3.us.cloud-object-storage.appdomain.cloud/IBMDeveloperSkillsNetwork-DB0201EN-SkillsNetwork/labs/Module%205/DB0201EN-Week3-1-4-Analyzing.ipynb?utm_medium=Exinfluencer&utm_source=Exinfluencer&utm_content=000026UJ&utm_term=10006555&utm_id=NA-SkillsNetwork-Channel-SkillsNetworkCoursesIBMDS0321ENSkillsNetwork26802033-2021-01-01\">Hands-on Lab: Analyzing a real World Data Set</a>\n"
        },
        {
            "cell_type": "markdown",
            "metadata": {},
            "source": "## Author(s)\n\n<h4> Lakshmi Holla </h4>\n"
        },
        {
            "cell_type": "markdown",
            "metadata": {},
            "source": "## Other Contributors\n\n<h4> Rav Ahuja </h4>\n"
        },
        {
            "cell_type": "markdown",
            "metadata": {},
            "source": "## Change log\n\n| Date       | Version | Changed by    | Change Description        |\n| ---------- | ------- | ------------- | ------------------------- |\n| 2021-10-12 | 0.4     | Lakshmi Holla | Changed markdown          |\n| 2021-08-24 | 0.3     | Lakshmi Holla | Added library update      |\n| 2021-07-09 | 0.2     | Lakshmi Holla | Changes made in magic sql |\n| 2021-05-20 | 0.1     | Lakshmi Holla | Created Initial Version   |\n"
        },
        {
            "cell_type": "markdown",
            "metadata": {},
            "source": "## <h3 align=\"center\"> \u00a9 IBM Corporation 2021. All rights reserved. <h3/>\n"
        }
    ],
    "metadata": {
        "kernelspec": {
            "display_name": "Python 3.8",
            "language": "python",
            "name": "python3"
        },
        "language_info": {
            "codemirror_mode": {
                "name": "ipython",
                "version": 3
            },
            "file_extension": ".py",
            "mimetype": "text/x-python",
            "name": "python",
            "nbconvert_exporter": "python",
            "pygments_lexer": "ipython3",
            "version": "3.8.12"
        }
    },
    "nbformat": 4,
    "nbformat_minor": 4
}